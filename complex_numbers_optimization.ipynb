{
  "nbformat": 4,
  "nbformat_minor": 0,
  "metadata": {
    "colab": {
      "name": "complex_numbers.ipynb",
      "provenance": [],
      "collapsed_sections": []
    },
    "kernelspec": {
      "name": "python3",
      "display_name": "Python 3"
    },
    "language_info": {
      "name": "python"
    }
  },
  "cells": [
    {
      "cell_type": "markdown",
      "source": [
        "# **Проект по оптимизации простейших операций над комплексными числам на Python с использованием библиотек Cython и Numpy**"
      ],
      "metadata": {
        "id": "EIi5j-qgnxeB"
      }
    },
    {
      "cell_type": "markdown",
      "source": [
        "Оформили проект студенты группы ПМ-2001: Киселёв Григорий и Давлетшин Азат"
      ],
      "metadata": {
        "id": "e-h-TOEioXJK"
      }
    },
    {
      "cell_type": "markdown",
      "source": [
        "---\n",
        "\n",
        "### **Установка нужных библиотек**\n",
        "\n"
      ],
      "metadata": {
        "id": "kEj81dWZofqW"
      }
    },
    {
      "cell_type": "code",
      "execution_count": null,
      "metadata": {
        "id": "Tnq-Oll0pqZI"
      },
      "outputs": [],
      "source": [
        "!pip install Cython\n",
        "!pip install ipdb\n",
        "!pip install git+https://github.com/RJT1990/pyflux\n",
        "!pip install ipython-autotime\n",
        "\n",
        "%load_ext cython\n",
        "\n",
        "import numpy as np\n",
        "import Cython\n",
        "from time import time"
      ]
    },
    {
      "cell_type": "code",
      "source": [
        "%load_ext autotime"
      ],
      "metadata": {
        "id": "baon9IwouGog"
      },
      "execution_count": null,
      "outputs": []
    },
    {
      "cell_type": "markdown",
      "source": [
        "---\n",
        "\n",
        "### **Создание класса и описание методов для работы с комплексными числами с Pure Python**\n",
        "\n",
        "\n"
      ],
      "metadata": {
        "id": "wswgU_H-onU2"
      }
    },
    {
      "cell_type": "code",
      "source": [
        "from math import *\n",
        "\n",
        "class PPComplexNum:\n",
        "\n",
        "  def __init__(self, a, b):\n",
        "    self.re = a\n",
        "    self.im = b\n",
        "    self.norm = sqrt(self.re * self.re + self.im * self.im)\n",
        "    try: \n",
        "      div = self.im / self.re\n",
        "    except ArithmeticError:\n",
        "      self.angle = pi / 2 if self.im > 0 else 3 * pi / 2 \n",
        "    else:\n",
        "      self.angle = atan(div) + pi if self.re < 0 else atan(div)\n",
        "\n",
        "  def alg_print(self):\n",
        "    return f\"{self.re} + i * {self.im}\"\n",
        "\n",
        "  def trig_print(self):\n",
        "    return f\"{self.norm} * (cos({self.angle}) + i * sin({self.angle}))\"\n",
        "\n",
        "  def exp_print(self):\n",
        "    return f\"{self.norm} * e ^ (i * {self.angle})\"\n",
        "  \n",
        "  def __add__(self, OtherComplex):\n",
        "    return PPComplexNum(self.re + OtherComplex.re, self.im + OtherComplex.im)\n",
        "  \n",
        "  def __sub__(self, OtherComplex):\n",
        "    return PPComplexNum(self.re - OtherComplex.re, self.im - OtherComplex.im)\n",
        "  \n",
        "  def __mul__(self, OtherComplex):\n",
        "    return PPComplexNum(self.re * OtherComplex.re - OtherComplex.im * self.im, \n",
        "                        self.re * OtherComplex.im + self.im * OtherComplex.re)\n",
        "  \n",
        "  def __truediv__(self, OtherComplex):\n",
        "    if (OtherComplex.im == 0 and OtherComplex.re == 0):\n",
        "      print(\"Деление на ноль\")\n",
        "      return\n",
        "    return PPComplexNum((self.re * OtherComplex.re + self.im * OtherComplex.im) \n",
        "    / (OtherComplex.re ** 2 + OtherComplex.im ** 2), \n",
        "    (OtherComplex.re * self.im - self.re * OtherComplex.im) / \n",
        "    (OtherComplex.re ** 2 + OtherComplex.im ** 2))\n",
        "  \n",
        "  def cln(self):\n",
        "    return f\"ln({self.norm}) + i * ({self.angle} + 2pi * n, n - целое)\"\n",
        "  \n",
        "  def pow(self, OtherComplex):\n",
        "    return f\"e^(({OtherComplex.re} + i * {OtherComplex.im}) * (\" + self.cln() + \")\"\n",
        "\n",
        "\n",
        "pn1 = PPComplexNum(2.12, 5.11)\n",
        "pn2 = PPComplexNum(3.14, -4)\n",
        "print(\"Время инициализации для Pure Python:\")"
      ],
      "metadata": {
        "id": "Uc0KNv17sjZ7",
        "colab": {
          "base_uri": "https://localhost:8080/"
        },
        "outputId": "c12234a7-3451-4e3f-d328-92e09a39c7d1"
      },
      "execution_count": 7,
      "outputs": [
        {
          "output_type": "stream",
          "name": "stdout",
          "text": [
            "Время инициализации для Pure Python:\n",
            "time: 7.31 ms (started: 2022-05-31 20:07:23 +00:00)\n"
          ]
        }
      ]
    },
    {
      "cell_type": "markdown",
      "source": [
        "---\n",
        "\n",
        "### **Создание класса и описание методов для работы с комплексными числами с Cython**\n"
      ],
      "metadata": {
        "id": "EXH92GC-pDMC"
      }
    },
    {
      "cell_type": "code",
      "source": [
        "%%cython\n",
        "import cython\n",
        "from libc.math cimport sqrt, M_PI, atan\n",
        "\n",
        "class CPComplexNum:\n",
        "  \n",
        "  def __init__(self, a, b):\n",
        "    self.re = a\n",
        "    self.im = b\n",
        "    cdef float re = self.re\n",
        "    cdef float im = self.im\n",
        "    cdef float angle\n",
        "    cdef float div\n",
        "    cdef float norm = sqrt(re * re + im * im)\n",
        "    self.norm = norm\n",
        "    try: \n",
        "      div = im / re\n",
        "    except ArithmeticError:\n",
        "      angle = M_PI / 2 if re > 0 else 3 * M_PI / 2 \n",
        "    else:\n",
        "      angle = atan(div) + M_PI if re < 0 else atan(div)\n",
        "    self.angle = angle\n",
        "\n",
        "  def alg_print(self):\n",
        "    return f\"{self.re} + i * {self.im}\"\n",
        "\n",
        "  def trig_print(self):\n",
        "    return f\"{self.norm} * (cos({self.angle}) + i * sin({self.angle}))\"\n",
        "\n",
        "  def exp_print(self):\n",
        "    return f\"{self.norm} * e ^ (i * {self.angle})\"\n",
        "\n",
        "  def __add__(self, OtherComplex):\n",
        "    cdef float a1 = self.re\n",
        "    cdef float b1 = self.im\n",
        "    cdef float a2 = OtherComplex.re\n",
        "    cdef float b2 = OtherComplex.im\n",
        "    return CPComplexNum(a1 + a2, b1 + b2)\n",
        "  \n",
        "  def __sub__(self, OtherComplex):\n",
        "    cdef float a1 = self.re\n",
        "    cdef float b1 = self.im\n",
        "    cdef float a2 = OtherComplex.re\n",
        "    cdef float b2 = OtherComplex.im\n",
        "    return CPComplexNum(a1 - a2, b1 - b2)\n",
        "  \n",
        "  def __mul__(self, OtherComplex):\n",
        "    cdef float a1 = self.re\n",
        "    cdef float b1 = self.im\n",
        "    cdef float a2 = OtherComplex.re\n",
        "    cdef float b2 = OtherComplex.im\n",
        "    return CPComplexNum(a1 * a2 - b2 * b1, a1 * b2 + b1 * a2)\n",
        "  \n",
        "  def __truediv__(self, OtherComplex):\n",
        "    cdef float a1 = self.re\n",
        "    cdef float b1 = self.im\n",
        "    cdef float a2 = OtherComplex.re\n",
        "    cdef float b2 = OtherComplex.im\n",
        "    if (a2 == 0 and b2 == 0):\n",
        "      print(\"Деление на ноль\")\n",
        "      return\n",
        "    return CPComplexNum((a1 * a2 + b1 * b2) \n",
        "    / (a2 ** 2 + b2 ** 2), (a2 * b1 - a1 * b2) / (a2 ** 2 + b2 ** 2))\n",
        "  \n",
        "  def cln(self):\n",
        "    return f\"ln({self.norm}) + i * ({self.angle} + 2pi * n, n - целое)\"\n",
        "  \n",
        "  def pow(self, OtherComplex):\n",
        "    return f\"e^(({OtherComplex.re} + i * {OtherComplex.im}) * (\" + self.cln() + \")\"\n",
        "\n",
        "cn1 = CPComplexNum(2.12, 5.11)\n",
        "cn2 = CPComplexNum(3.14, -4)\n",
        "print(\"Время инициализации для Cython:\")"
      ],
      "metadata": {
        "colab": {
          "base_uri": "https://localhost:8080/"
        },
        "id": "alN_2fw-vksH",
        "outputId": "d05324a2-b9ee-4f29-f9ae-c126f98279c1"
      },
      "execution_count": 8,
      "outputs": [
        {
          "output_type": "stream",
          "name": "stdout",
          "text": [
            "Время инициализации для Cython:\n",
            "time: 1.67 s (started: 2022-05-31 20:07:23 +00:00)\n"
          ]
        }
      ]
    },
    {
      "cell_type": "markdown",
      "source": [
        "---\n",
        "\n",
        "### **Создание класса и описание методов для работы с комплексными числами с NumPy**\n",
        "\n"
      ],
      "metadata": {
        "id": "WSjgCP72pHM_"
      }
    },
    {
      "cell_type": "code",
      "source": [
        "class NumPyComplexNum:\n",
        "  def __init__ (self, a, b):\n",
        "    self.comp = a + b*1j\n",
        "    self.norm = np.absolute(self.comp)\n",
        "    self.angle = np.angle(self.comp)\n",
        "  def __str__(self):\n",
        "    return f\"{self.comp}\"\n",
        "  def __add__(self, OtherComplex):\n",
        "    return np.array([self.comp + OtherComplex.comp])\n",
        "  def __sub__(self, OtherComplex):\n",
        "    return self.comp - OtherComplex.comp\n",
        "  def __mul__(self, OtherComplex):\n",
        "    return np.multiply(self.comp, OtherComplex.comp)\n",
        "  def __truediv__(self, OtherComplex):\n",
        "    return np.divide(self.comp, OtherComplex.comp)\n",
        "  def cln(self):\n",
        "    return np.log(self.comp)\n",
        "  def pow(self, OtherComplex):\n",
        "    return np.power(self.comp, OtherComplex.comp)\n",
        "\n",
        "nn1 = NumPyComplexNum(2.12, 5.11)\n",
        "nn2 = NumPyComplexNum(3.14, -4)\n",
        "print(\"Время инициализации: \")"
      ],
      "metadata": {
        "id": "DdZF_xLP8nE6",
        "colab": {
          "base_uri": "https://localhost:8080/"
        },
        "outputId": "1699cbb2-434e-46ee-cfd6-745d318cd51d"
      },
      "execution_count": 9,
      "outputs": [
        {
          "output_type": "stream",
          "name": "stdout",
          "text": [
            "Время инициализации: \n",
            "time: 3.22 ms (started: 2022-05-31 20:07:24 +00:00)\n"
          ]
        }
      ]
    },
    {
      "cell_type": "markdown",
      "source": [
        "---\n",
        "\n",
        "## **Сравнение времени выполнения задач**\n",
        "\n",
        "\n"
      ],
      "metadata": {
        "id": "pfa9CLiJpPmF"
      }
    },
    {
      "cell_type": "markdown",
      "source": [
        "---\n",
        "\n",
        "***Вывод комлпексного числа***"
      ],
      "metadata": {
        "id": "Tsu4IFDDpc1A"
      }
    },
    {
      "cell_type": "code",
      "source": [
        "print(\"Алгебраическая форма записи (PyrePython): \", pn1.alg_print())"
      ],
      "metadata": {
        "colab": {
          "base_uri": "https://localhost:8080/"
        },
        "id": "6lEjcc2S5Nz7",
        "outputId": "034b54e6-d829-4a26-a65b-6a0430d37be0"
      },
      "execution_count": 10,
      "outputs": [
        {
          "output_type": "stream",
          "name": "stdout",
          "text": [
            "Алгебраическая форма записи (PyrePython):  2.12 + i * 5.11\n",
            "time: 606 µs (started: 2022-05-31 20:07:24 +00:00)\n"
          ]
        }
      ]
    },
    {
      "cell_type": "code",
      "source": [
        "print(\"Алгебраическая форма записи (Cython): \", cn1.alg_print())"
      ],
      "metadata": {
        "colab": {
          "base_uri": "https://localhost:8080/"
        },
        "id": "ZH6fwYUf5v4I",
        "outputId": "52ed8e3d-3155-44c8-a043-322c5814dcfe"
      },
      "execution_count": 11,
      "outputs": [
        {
          "output_type": "stream",
          "name": "stdout",
          "text": [
            "Алгебраическая форма записи (Cython):  2.12 + i * 5.11\n",
            "time: 1.35 ms (started: 2022-05-31 20:07:24 +00:00)\n"
          ]
        }
      ]
    },
    {
      "cell_type": "code",
      "source": [
        "print(\"Алгебраическая форма записи (NumPy) \", nn1)\n",
        "print(\"Алгебраическая форма записи (NumPy) \", nn2)"
      ],
      "metadata": {
        "colab": {
          "base_uri": "https://localhost:8080/"
        },
        "id": "WCuHp2-K_Sp6",
        "outputId": "64242e13-c4f7-4ca9-ad5b-74913960d5e6"
      },
      "execution_count": 12,
      "outputs": [
        {
          "output_type": "stream",
          "name": "stdout",
          "text": [
            "Алгебраическая форма записи (NumPy)  (2.12+5.11j)\n",
            "Алгебраическая форма записи (NumPy)  (3.14-4j)\n",
            "time: 697 µs (started: 2022-05-31 20:07:24 +00:00)\n"
          ]
        }
      ]
    },
    {
      "cell_type": "code",
      "source": [
        "print(\"Тригонометрическая форма записи (PyrePython): \", pn1.trig_print())"
      ],
      "metadata": {
        "colab": {
          "base_uri": "https://localhost:8080/"
        },
        "id": "lGkKikOJ5kgj",
        "outputId": "b59a26b2-f073-4cb3-c58c-0fc58e30df89"
      },
      "execution_count": 13,
      "outputs": [
        {
          "output_type": "stream",
          "name": "stdout",
          "text": [
            "Тригонометрическая форма записи (PyrePython):  5.532314163168972 * (cos(1.1775346830993867) + i * sin(1.1775346830993867))\n",
            "time: 694 µs (started: 2022-05-31 20:07:24 +00:00)\n"
          ]
        }
      ]
    },
    {
      "cell_type": "code",
      "source": [
        "print(\"Тригонометрическая форма записи (Cython): \", cn1.trig_print())"
      ],
      "metadata": {
        "colab": {
          "base_uri": "https://localhost:8080/"
        },
        "id": "WqANbHvA5xKV",
        "outputId": "e1ba38b0-db18-403b-980a-ef8158752c25"
      },
      "execution_count": 14,
      "outputs": [
        {
          "output_type": "stream",
          "name": "stdout",
          "text": [
            "Тригонометрическая форма записи (Cython):  5.532314300537109 * (cos(1.1775346994400024) + i * sin(1.1775346994400024))\n",
            "time: 727 µs (started: 2022-05-31 20:07:24 +00:00)\n"
          ]
        }
      ]
    },
    {
      "cell_type": "code",
      "source": [
        "print(\"Экспоненциальная форма записи (PyrePython): \", pn1.exp_print())"
      ],
      "metadata": {
        "colab": {
          "base_uri": "https://localhost:8080/"
        },
        "id": "CKURxCQE5rBi",
        "outputId": "0a49a0e8-42cd-4497-e72e-f086a350c7ee"
      },
      "execution_count": 15,
      "outputs": [
        {
          "output_type": "stream",
          "name": "stdout",
          "text": [
            "Экспоненциальная форма записи (PyrePython):  5.532314163168972 * e ^ (i * 1.1775346830993867)\n",
            "time: 787 µs (started: 2022-05-31 20:07:24 +00:00)\n"
          ]
        }
      ]
    },
    {
      "cell_type": "code",
      "source": [
        "print(\"Экспоненциальная форма записи (Cython): \", cn1.exp_print())"
      ],
      "metadata": {
        "colab": {
          "base_uri": "https://localhost:8080/"
        },
        "id": "o5z4MoY65ywq",
        "outputId": "efda9007-1960-4a5b-e8df-4ac747051e03"
      },
      "execution_count": 16,
      "outputs": [
        {
          "output_type": "stream",
          "name": "stdout",
          "text": [
            "Экспоненциальная форма записи (Cython):  5.532314300537109 * e ^ (i * 1.1775346994400024)\n",
            "time: 1.19 ms (started: 2022-05-31 20:07:24 +00:00)\n"
          ]
        }
      ]
    },
    {
      "cell_type": "markdown",
      "source": [
        "---\n",
        "\n",
        "***Сумма двух комплексных чисел:***\n",
        "\n"
      ],
      "metadata": {
        "id": "Jr4SKL8ZpvH5"
      }
    },
    {
      "cell_type": "code",
      "source": [
        "print(\"PurePython: \", (pn1 + pn2).alg_print())"
      ],
      "metadata": {
        "colab": {
          "base_uri": "https://localhost:8080/"
        },
        "id": "QoXjnNJy5x8n",
        "outputId": "9d3e3265-f407-484c-bbf2-e35f42a61cff"
      },
      "execution_count": 17,
      "outputs": [
        {
          "output_type": "stream",
          "name": "stdout",
          "text": [
            "PurePython:  5.26 + i * 1.1100000000000003\n",
            "time: 783 µs (started: 2022-05-31 20:07:24 +00:00)\n"
          ]
        }
      ]
    },
    {
      "cell_type": "code",
      "source": [
        "print(\"Cython: \", (cn1 + cn2).alg_print())"
      ],
      "metadata": {
        "colab": {
          "base_uri": "https://localhost:8080/"
        },
        "id": "vOBlNdVA6Vdy",
        "outputId": "e91a8480-6294-4ccb-8fbe-3c8e7785b16c"
      },
      "execution_count": 18,
      "outputs": [
        {
          "output_type": "stream",
          "name": "stdout",
          "text": [
            "Cython:  5.260000228881836 + i * 1.1100001335144043\n",
            "time: 922 µs (started: 2022-05-31 20:07:24 +00:00)\n"
          ]
        }
      ]
    },
    {
      "cell_type": "code",
      "source": [
        "print(\"NumPy: \", nn1 + nn2)"
      ],
      "metadata": {
        "colab": {
          "base_uri": "https://localhost:8080/"
        },
        "id": "-WfvWTR4ArTU",
        "outputId": "dd14e80f-75f6-46b2-9079-c715376b9eb4"
      },
      "execution_count": 19,
      "outputs": [
        {
          "output_type": "stream",
          "name": "stdout",
          "text": [
            "NumPy:  [5.26+1.11j]\n",
            "time: 2.04 ms (started: 2022-05-31 20:07:24 +00:00)\n"
          ]
        }
      ]
    },
    {
      "cell_type": "markdown",
      "source": [
        "---\n",
        "***Разность двух комплексных чисел***"
      ],
      "metadata": {
        "id": "RykyQTCQp5hg"
      }
    },
    {
      "cell_type": "code",
      "source": [
        "print(\"PurePython: \", (pn1 - pn2).alg_print())"
      ],
      "metadata": {
        "colab": {
          "base_uri": "https://localhost:8080/"
        },
        "id": "rnh2Z5sd5Brr",
        "outputId": "66a62e6e-331d-4b02-9f9e-39c1fdf1475c"
      },
      "execution_count": 44,
      "outputs": [
        {
          "output_type": "stream",
          "name": "stdout",
          "text": [
            "PurePython:  -1.02 + i * 9.11\n",
            "time: 718 µs (started: 2022-05-31 20:08:44 +00:00)\n"
          ]
        }
      ]
    },
    {
      "cell_type": "code",
      "source": [
        "print(\"Cython: \", (cn1 - cn2).alg_print())"
      ],
      "metadata": {
        "colab": {
          "base_uri": "https://localhost:8080/"
        },
        "id": "L6_xVP7D5LEu",
        "outputId": "d226d7d0-6b16-4edd-a568-f221d13b4a61"
      },
      "execution_count": 45,
      "outputs": [
        {
          "output_type": "stream",
          "name": "stdout",
          "text": [
            "Cython:  -1.0200002193450928 + i * 9.110000610351562\n",
            "time: 633 µs (started: 2022-05-31 20:08:45 +00:00)\n"
          ]
        }
      ]
    },
    {
      "cell_type": "code",
      "source": [
        "print(\"NumPy: \", nn1 - nn2)"
      ],
      "metadata": {
        "colab": {
          "base_uri": "https://localhost:8080/"
        },
        "id": "5kLyr59K_XVH",
        "outputId": "42afac2d-0fec-41db-83ac-1848003faa73"
      },
      "execution_count": 40,
      "outputs": [
        {
          "output_type": "stream",
          "name": "stdout",
          "text": [
            "NumPy:  (-1.02+9.11j)\n",
            "time: 1.05 ms (started: 2022-05-31 20:08:37 +00:00)\n"
          ]
        }
      ]
    },
    {
      "cell_type": "markdown",
      "source": [
        "---\n",
        "\n",
        "***Произведение двух комплексных чисел***"
      ],
      "metadata": {
        "id": "6-ZsGdpsqAMx"
      }
    },
    {
      "cell_type": "code",
      "source": [
        "print(\"PurePython: \", (pn1 * pn2).alg_print())"
      ],
      "metadata": {
        "colab": {
          "base_uri": "https://localhost:8080/"
        },
        "id": "gd022jLw6uo8",
        "outputId": "215d2a10-bb79-464c-a4c0-57376a98a0bb"
      },
      "execution_count": 37,
      "outputs": [
        {
          "output_type": "stream",
          "name": "stdout",
          "text": [
            "PurePython:  27.0968 + i * 7.5654\n",
            "time: 981 µs (started: 2022-05-31 20:08:27 +00:00)\n"
          ]
        }
      ]
    },
    {
      "cell_type": "code",
      "source": [
        "print(\"Cython: \", (cn1 * cn2).alg_print())"
      ],
      "metadata": {
        "colab": {
          "base_uri": "https://localhost:8080/"
        },
        "id": "J8zE_Mri66Ys",
        "outputId": "028b9930-551d-4d78-c065-1e2ab92931db"
      },
      "execution_count": 38,
      "outputs": [
        {
          "output_type": "stream",
          "name": "stdout",
          "text": [
            "Cython:  27.096799850463867 + i * 7.565401077270508\n",
            "time: 725 µs (started: 2022-05-31 20:08:29 +00:00)\n"
          ]
        }
      ]
    },
    {
      "cell_type": "code",
      "source": [
        "print(\"NumPy: \", nn1 * nn2)"
      ],
      "metadata": {
        "colab": {
          "base_uri": "https://localhost:8080/"
        },
        "id": "ZCDEvMde_2fV",
        "outputId": "b5fd972d-c417-465f-99a0-b1092a19910d"
      },
      "execution_count": 25,
      "outputs": [
        {
          "output_type": "stream",
          "name": "stdout",
          "text": [
            "NumPy:  (27.0968+7.5654j)\n",
            "time: 768 µs (started: 2022-05-31 20:07:24 +00:00)\n"
          ]
        }
      ]
    },
    {
      "cell_type": "markdown",
      "source": [
        "---\n",
        "\n",
        "***Деление двух комплексных чисел***"
      ],
      "metadata": {
        "id": "JKp7rkJLqGGV"
      }
    },
    {
      "cell_type": "code",
      "source": [
        "print(\"PurePython: \", (pn1 / pn2).alg_print())"
      ],
      "metadata": {
        "colab": {
          "base_uri": "https://localhost:8080/"
        },
        "id": "V4tXyLgV69wo",
        "outputId": "d4ad0769-02a0-4aa2-f604-d8bf7339d97f"
      },
      "execution_count": 26,
      "outputs": [
        {
          "output_type": "stream",
          "name": "stdout",
          "text": [
            "PurePython:  -0.5330012838558988 + i * 0.9484060078268806\n",
            "time: 1.29 ms (started: 2022-05-31 20:07:24 +00:00)\n"
          ]
        }
      ]
    },
    {
      "cell_type": "code",
      "source": [
        "print(\"Cython: \", (cn1 / cn2).alg_print())"
      ],
      "metadata": {
        "colab": {
          "base_uri": "https://localhost:8080/"
        },
        "id": "GQw_Lv6v7g7R",
        "outputId": "28ba3920-591c-4156-e2ed-5b936cb58a01"
      },
      "execution_count": 27,
      "outputs": [
        {
          "output_type": "stream",
          "name": "stdout",
          "text": [
            "Cython:  -0.5330013036727905 + i * 0.9484060406684875\n",
            "time: 911 µs (started: 2022-05-31 20:07:24 +00:00)\n"
          ]
        }
      ]
    },
    {
      "cell_type": "code",
      "source": [
        "print(\"PurePython: \", (pn1 / PPComplexNum(0, 0)))"
      ],
      "metadata": {
        "colab": {
          "base_uri": "https://localhost:8080/"
        },
        "id": "p5Sm3PiF7pCP",
        "outputId": "3fcf2d30-2214-4d22-a34a-4756365f4b50"
      },
      "execution_count": 46,
      "outputs": [
        {
          "output_type": "stream",
          "name": "stdout",
          "text": [
            "Деление на ноль\n",
            "PurePython:  None\n",
            "time: 1.82 ms (started: 2022-05-31 20:09:04 +00:00)\n"
          ]
        }
      ]
    },
    {
      "cell_type": "code",
      "source": [
        "print(\"Cython: \", (cn1 / CPComplexNum(0, 0)))"
      ],
      "metadata": {
        "colab": {
          "base_uri": "https://localhost:8080/"
        },
        "id": "ROHmRTXF7y_g",
        "outputId": "c56ec677-a03f-4d26-f9a6-4774e2065af3"
      },
      "execution_count": 29,
      "outputs": [
        {
          "output_type": "stream",
          "name": "stdout",
          "text": [
            "Деление на ноль\n",
            "Cython:  None\n",
            "time: 935 µs (started: 2022-05-31 20:07:24 +00:00)\n"
          ]
        }
      ]
    },
    {
      "cell_type": "code",
      "source": [
        "print(\"NumPy: \", nn1 / nn2)"
      ],
      "metadata": {
        "colab": {
          "base_uri": "https://localhost:8080/"
        },
        "id": "NlKwJnpxBqMD",
        "outputId": "5c6e373f-d434-4f86-b2ad-d10bce8ffd56"
      },
      "execution_count": 30,
      "outputs": [
        {
          "output_type": "stream",
          "name": "stdout",
          "text": [
            "NumPy:  (-0.5330012838558987+0.9484060078268806j)\n",
            "time: 841 µs (started: 2022-05-31 20:07:24 +00:00)\n"
          ]
        }
      ]
    },
    {
      "cell_type": "markdown",
      "source": [
        "---\n",
        "\n",
        "***Комплексный логарифм***"
      ],
      "metadata": {
        "id": "U4gLMJrkqpPx"
      }
    },
    {
      "cell_type": "code",
      "source": [
        "print(\"PurePython: \", pn1.cln())"
      ],
      "metadata": {
        "colab": {
          "base_uri": "https://localhost:8080/"
        },
        "id": "dUZSm8JR8BNn",
        "outputId": "356caacd-17b7-44ba-85e2-2eb7a2731a90"
      },
      "execution_count": 50,
      "outputs": [
        {
          "output_type": "stream",
          "name": "stdout",
          "text": [
            "PurePython:  ln(5.532314163168972) + i * (1.1775346830993867 + 2pi * n, n - целое)\n",
            "time: 1.46 ms (started: 2022-05-31 20:09:17 +00:00)\n"
          ]
        }
      ]
    },
    {
      "cell_type": "code",
      "source": [
        "print(\"Cython: \", cn1.cln())"
      ],
      "metadata": {
        "colab": {
          "base_uri": "https://localhost:8080/"
        },
        "id": "_oo6PQm68Ngt",
        "outputId": "d4b7956a-53b1-4bc1-e8f9-255af253754a"
      },
      "execution_count": 48,
      "outputs": [
        {
          "output_type": "stream",
          "name": "stdout",
          "text": [
            "Cython:  ln(5.532314300537109) + i * (1.1775346994400024 + 2pi * n, n - целое)\n",
            "time: 846 µs (started: 2022-05-31 20:09:13 +00:00)\n"
          ]
        }
      ]
    },
    {
      "cell_type": "code",
      "source": [
        "print(\"NumPy: \", nn1.cln())"
      ],
      "metadata": {
        "colab": {
          "base_uri": "https://localhost:8080/"
        },
        "id": "RG1fAIwOCXl3",
        "outputId": "2d443bc6-3d3e-4816-fce6-b04bf0bee964"
      },
      "execution_count": 52,
      "outputs": [
        {
          "output_type": "stream",
          "name": "stdout",
          "text": [
            "NumPy:  (1.710606202350708+1.1775346830993867j)\n",
            "time: 976 µs (started: 2022-05-31 20:09:21 +00:00)\n"
          ]
        }
      ]
    },
    {
      "cell_type": "markdown",
      "source": [
        "---\n",
        "\n",
        "***Вовзедение комплексного числа в комплексную степень***"
      ],
      "metadata": {
        "id": "DlFO4d6Iq3Ge"
      }
    },
    {
      "cell_type": "code",
      "source": [
        "print(\"PurePython: \", pn1.pow(pn2))"
      ],
      "metadata": {
        "colab": {
          "base_uri": "https://localhost:8080/"
        },
        "id": "WLmu3-iS8R4G",
        "outputId": "04de282c-7133-42b7-955f-a84b720196e8"
      },
      "execution_count": 53,
      "outputs": [
        {
          "output_type": "stream",
          "name": "stdout",
          "text": [
            "PurePython:  e^((3.14 + i * -4) * (ln(5.532314163168972) + i * (1.1775346830993867 + 2pi * n, n - целое))\n",
            "time: 1.28 ms (started: 2022-05-31 20:09:28 +00:00)\n"
          ]
        }
      ]
    },
    {
      "cell_type": "code",
      "source": [
        "print(\"Cython: \", cn1.pow(cn2))"
      ],
      "metadata": {
        "colab": {
          "base_uri": "https://localhost:8080/"
        },
        "id": "gUrFqcSB8kUv",
        "outputId": "a243cd3c-06c0-462a-b692-c2f655355e4a"
      },
      "execution_count": 62,
      "outputs": [
        {
          "output_type": "stream",
          "name": "stdout",
          "text": [
            "Cython:  e^((3.14 + i * -4) * (ln(5.532314300537109) + i * (1.1775346994400024 + 2pi * n, n - целое))\n",
            "time: 782 µs (started: 2022-05-31 20:09:43 +00:00)\n"
          ]
        }
      ]
    },
    {
      "cell_type": "code",
      "source": [
        "print(\"NumPy: \", nn1.pow(nn2))"
      ],
      "metadata": {
        "colab": {
          "base_uri": "https://localhost:8080/"
        },
        "id": "6FFUGlxAB7G6",
        "outputId": "a38ed322-f040-4314-9c3b-04a32fcbe9d0"
      },
      "execution_count": 58,
      "outputs": [
        {
          "output_type": "stream",
          "name": "stdout",
          "text": [
            "NumPy:  (-23895.286917230605+80.60510337504363j)\n",
            "time: 858 µs (started: 2022-05-31 20:09:36 +00:00)\n"
          ]
        }
      ]
    },
    {
      "cell_type": "markdown",
      "source": [
        "---\n",
        "\n",
        "# ***Заключение***\n",
        "### ***По итогам тестов, можно понять, что в большинстве случаев, в том числе при инициализации, лучше всего себя показывает класс написанный при помощи Cython, в некоторых случаях он уступает, хуже всего себя проявил класс и методы написанные на Pure Python, хотя иногда он работает быстрее чем NumPy, таким образом получилось хоть и немного но ускорить процесс вычисления. Но следует помнить и понимать, что каждая задача ситуативна и нужно думать, что будет лучше конкретно для этой задачи.***\n",
        "\n",
        "---"
      ],
      "metadata": {
        "id": "ZpJqIT8XrKpO"
      }
    }
  ]
}